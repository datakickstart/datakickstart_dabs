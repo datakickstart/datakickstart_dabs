{
 "cells": [
  {
   "cell_type": "markdown",
   "metadata": {
    "application/vnd.databricks.v1+cell": {
     "cellMetadata": {},
     "inputWidgets": {},
     "nuid": "ee353e42-ff58-4955-9608-12865bd0950e",
     "showTitle": false,
     "title": ""
    }
   },
   "source": [
    "# Default notebook\n",
    "\n",
    "This default notebook is executed using Databricks Workflows as defined in resources/datakickstart_dabs_job.yml."
   ]
  },
  {
   "cell_type": "code",
   "execution_count": null,
   "metadata": {
    "application/vnd.databricks.v1+cell": {
     "cellMetadata": {
      "byteLimit": 2048000,
      "rowLimit": 10000
     },
     "inputWidgets": {},
     "nuid": "6bca260b-13d1-448f-8082-30b60a85c9ae",
     "showTitle": false,
     "title": ""
    }
   },
   "outputs": [],
   "source": [
    "from datakickstart_dabs import main\n",
    "\n",
    "main.get_taxis().show(10)"
   ]
  },
  {
   "cell_type": "code",
   "execution_count": null,
   "metadata": {},
   "outputs": [],
   "source": [
    "my_df = spark.createDataFrame([['test1', 1], ['test2', 2]], ['name', 'num'])\n",
    "my_df.show(10)"
   ]
  },
  {
   "cell_type": "code",
   "execution_count": null,
   "metadata": {},
   "outputs": [],
   "source": [
    "import pyspark.sql.functions as fn\n",
    "\n",
    "def save_summary(df):\n",
    "  df2 = df.select(\n",
    "        df.tpep_pickup_datetime.cast(\"date\").alias(\"pickup_date\"), \n",
    "        df.pickup_zip, \n",
    "        df.trip_distance,\n",
    "        df.fare_amount\n",
    "        )\n",
    "  df2.createOrReplaceTempView(\"trip_tmp\")\n",
    "\n",
    "  df_agg = spark.sql(\"\"\"\n",
    "          SELECT \n",
    "            pickup_date, \n",
    "            pickup_zip, \n",
    "            SUM(trip_distance) as trip_distance, \n",
    "            SUM(fare_amount) as fare_amount\n",
    "          FROM trip_tmp\n",
    "          GROUP BY pickup_date, pickup_zip\n",
    "        \"\"\")\n",
    "        \n",
    "  df_agg.write.mode(\"overwrite\").saveAsTable(\"main.datakickstart_dev.trip_summary\")\n",
    "\n",
    "df = main.get_taxis()\n",
    "save_summary(df)"
   ]
  }
 ],
 "metadata": {
  "application/vnd.databricks.v1+notebook": {
   "dashboards": [],
   "language": "python",
   "notebookMetadata": {
    "pythonIndentUnit": 2
   },
   "notebookName": "notebook",
   "widgets": {}
  },
  "kernelspec": {
   "display_name": "Python 3",
   "language": "python",
   "name": "python3"
  },
  "language_info": {
   "name": "python",
   "version": "3.11.4"
  }
 },
 "nbformat": 4,
 "nbformat_minor": 0
}
